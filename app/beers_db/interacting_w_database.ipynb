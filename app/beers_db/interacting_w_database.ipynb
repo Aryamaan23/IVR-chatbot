{
 "metadata": {
  "language_info": {
   "codemirror_mode": {
    "name": "ipython",
    "version": 3
   },
   "file_extension": ".py",
   "mimetype": "text/x-python",
   "name": "python",
   "nbconvert_exporter": "python",
   "pygments_lexer": "ipython3",
   "version": "3.7.6"
  },
  "orig_nbformat": 2,
  "kernelspec": {
   "name": "python376jvsc74a57bd0c3a2a682ccd5ed86327b49be0eb6d17dc6d1e5aa29ba0beabecf7dcb43bb1c8c",
   "display_name": "Python 3.7.6 64-bit ('IVR-chatbot-1l4WNwd4': pipenv)"
  },
  "metadata": {
   "interpreter": {
    "hash": "c3a2a682ccd5ed86327b49be0eb6d17dc6d1e5aa29ba0beabecf7dcb43bb1c8c"
   }
  }
 },
 "nbformat": 4,
 "nbformat_minor": 2,
 "cells": [
  {
   "cell_type": "code",
   "execution_count": 211,
   "metadata": {},
   "outputs": [
    {
     "output_type": "stream",
     "name": "stderr",
     "text": [
      "You are using pip version 18.1, however version 21.0.1 is available.Requirement already satisfied: pandas in c:\\python\\python36\\lib\\site-packages (1.1.5)\n",
      "Requirement already satisfied: pytz>=2017.2 in c:\\python\\python36\\lib\\site-packages (from pandas) (2019.3)\n",
      "Requirement already satisfied: numpy>=1.15.4 in c:\\python\\python36\\lib\\site-packages (from pandas) (1.19.2)\n",
      "Requirement already satisfied: python-dateutil>=2.7.3 in c:\\python\\python36\\lib\\site-packages (from pandas) (2.8.1)\n",
      "Requirement already satisfied: six>=1.5 in c:\\python\\python36\\lib\\site-packages (from python-dateutil>=2.7.3->pandas) (1.15.0)\n",
      "\n",
      "You should consider upgrading via the 'python -m pip install --upgrade pip' command.\n"
     ]
    }
   ],
   "source": [
    "!pip install pandas"
   ]
  },
  {
   "cell_type": "code",
   "execution_count": 212,
   "metadata": {},
   "outputs": [],
   "source": [
    "import sqlite3\n",
    "import pandas as pd\n",
    "import random"
   ]
  },
  {
   "cell_type": "code",
   "execution_count": 213,
   "metadata": {},
   "outputs": [],
   "source": [
    "def create_connection(db_file):\n",
    "    conn=None\n",
    "    try:\n",
    "        conn=sqlite3.connect(db_file)\n",
    "    except Error as e:\n",
    "        print(e)\n",
    "\n",
    "    return conn\n",
    "\n"
   ]
  },
  {
   "cell_type": "code",
   "execution_count": 214,
   "metadata": {},
   "outputs": [
    {
     "output_type": "execute_result",
     "data": {
      "text/plain": [
       "<sqlite3.Connection at 0x1902eb94c70>"
      ]
     },
     "metadata": {},
     "execution_count": 214
    }
   ],
   "source": [
    "create_connection(\"beersDB2311.db\")"
   ]
  },
  {
   "cell_type": "code",
   "execution_count": 215,
   "metadata": {},
   "outputs": [],
   "source": [
    "def select_all_tasks(conn):\n",
    "    cur=conn.cursor()\n",
    "    cur.execute(\"SELECT * FROM beeroffers\")\n",
    "    rows=cur.fetchall()\n",
    "    print(\"List of discount offers available on beers\")\n",
    "    print()\n",
    "    for row in rows:\n",
    "    \n",
    "        print(row[0])"
   ]
  },
  {
   "cell_type": "code",
   "execution_count": 216,
   "metadata": {},
   "outputs": [
    {
     "output_type": "stream",
     "name": "stdout",
     "text": [
      "List of discount offers available on beers\n\nBudweiser           22.2% discount on Budweiser\nCorona Extra        23.567% discount on Corona Extra\nStella Artois       29% discount on Stella Artois\nAguila              24.678% discount on Aguila\nBecks Blue          23.5% discount on Becks Blue\nBogota Lager        24% discount on Bogota Lager\nContender           51% discount on Contender\nBrahma Chopp        21% discount on Brahma Chopp\nBud Light           19.5% discount on Bud Light\nCass Fresh          18% discount on Cass Fresh\nCastle Lager        16% discount on Castle Lager\nCusqueña Dorada     10.5% discount on Cusqueña Dorada \nEagle Lager         11% discount on Eagle Lager   \nGoose Island Bourbon County Brand Stout  12.38% discount on Goose Island Bourbon County Brand Stout\nHarbin              15.2% discount on Harbin\nHaywards 5000       9.5% discount on Haywards 5000 \nHero                12.34% discount on Hero   \nHoegaarden          20% discount on Hoegaarden \nJupiler             32% discount on Jupiler \nLabatt Blue         27% discount on Labatt Blue \nLeffe               14% discount on Leffe    \nMichelob ULTRA      12% discount on Michelob ULTRA  \nModelo Especial     15% discount on Modelo Especial  \nPatagonia 24.7      18.5% discount on Patagonia 24.7 \nQuilmes             22.5% discount on Quilmes  \nSalva Vida          28% discount on Salva Vida   \nSkol                31% discount on Skol    \nVictoria            29% discount on Victoria  \nWäls Brut           25% discount on Wäls Brut  \n"
     ]
    }
   ],
   "source": [
    "select_all_tasks(create_connection(\"beersDB2311.db\"))"
   ]
  },
  {
   "cell_type": "code",
   "execution_count": 217,
   "metadata": {},
   "outputs": [],
   "source": [
    "def select_random(conn):\n",
    "    cur=conn.cursor()\n",
    "    cur.execute(\"SELECT * FROM beeroffers\")\n",
    "    rows=cur.fetchall()\n",
    "    print(\"List of discount offers available on beers\")\n",
    "    print()\n",
    "    for row in random.sample(rows,5):\n",
    "    \n",
    "        print(row[0])"
   ]
  },
  {
   "cell_type": "code",
   "execution_count": 218,
   "metadata": {},
   "outputs": [
    {
     "output_type": "stream",
     "name": "stdout",
     "text": [
      "List of discount offers available on beers\n\nSalva Vida          28% discount on Salva Vida   \nWäls Brut           25% discount on Wäls Brut  \nBrahma Chopp        21% discount on Brahma Chopp\nStella Artois       29% discount on Stella Artois\nAguila              24.678% discount on Aguila\n"
     ]
    }
   ],
   "source": [
    "select_random(create_connection(\"beersDB2311.db\"))"
   ]
  },
  {
   "cell_type": "code",
   "execution_count": null,
   "metadata": {},
   "outputs": [],
   "source": []
  }
 ]
}